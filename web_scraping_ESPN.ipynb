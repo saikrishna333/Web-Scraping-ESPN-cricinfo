{
 "cells": [
  {
   "cell_type": "markdown",
   "metadata": {},
   "source": [
    "# web scraping"
   ]
  },
  {
   "cell_type": "markdown",
   "metadata": {},
   "source": [
    "## Importing packages"
   ]
  },
  {
   "cell_type": "code",
   "execution_count": null,
   "metadata": {},
   "outputs": [],
   "source": [
    "### from bs4 import BeautifulSoup\n",
    "import requests\n",
    "import pandas as pd"
   ]
  },
  {
   "cell_type": "markdown",
   "metadata": {},
   "source": [
    "### Function to extract the data"
   ]
  },
  {
   "cell_type": "code",
   "execution_count": 161,
   "metadata": {},
   "outputs": [
    {
     "name": "stdout",
     "output_type": "stream",
     "text": [
      "successful\n"
     ]
    }
   ],
   "source": [
    "def webscraping():\n",
    "    for i in range(1,26):\n",
    "        \n",
    "        url=\"https://stats.espncricinfo.com/ci/engine/stats/index.html?class=3;page=\"+str(i)+\";template=results;type=aggregate;view=results\"\n",
    "        r=requests.get(url)\n",
    "        #html_content\n",
    "        page_content=r.text\n",
    "        soup=BeautifulSoup(page_content,\"html.parser\")\n",
    "        #for entire dataset data processing.....\n",
    "        tr_data =soup.find_all('tr',{'class':'data1'})\n",
    "        #dataset=[]\n",
    "        for i in tr_data:\n",
    "            raw_list=i.text.replace('\\n',',').strip().split(\",\")\n",
    "            raw_list.pop(5)\n",
    "            raw_list.pop(0)\n",
    "            raw_list.pop()\n",
    "            raw_list.pop()\n",
    "            dataset.append(raw_list)\n",
    "\n",
    "dataset=[]      \n",
    "webscraping()\n",
    "print(\"successful\")"
   ]
  },
  {
   "cell_type": "code",
   "execution_count": 166,
   "metadata": {},
   "outputs": [
    {
     "name": "stdout",
     "output_type": "stream",
     "text": [
      "no.of total records 1220\n"
     ]
    }
   ],
   "source": [
    "df=pd.DataFrame(dataset,columns=[\"Winner\",'Result',\"Margin\",\"BR\",\"Match\",\"Ground\",\"Start Date\"])\n",
    "print(\"no.of total records\",len(df))\n",
    "\n"
   ]
  },
  {
   "cell_type": "code",
   "execution_count": 165,
   "metadata": {},
   "outputs": [
    {
     "data": {
      "text/html": [
       "<div>\n",
       "<style scoped>\n",
       "    .dataframe tbody tr th:only-of-type {\n",
       "        vertical-align: middle;\n",
       "    }\n",
       "\n",
       "    .dataframe tbody tr th {\n",
       "        vertical-align: top;\n",
       "    }\n",
       "\n",
       "    .dataframe thead th {\n",
       "        text-align: right;\n",
       "    }\n",
       "</style>\n",
       "<table border=\"1\" class=\"dataframe\">\n",
       "  <thead>\n",
       "    <tr style=\"text-align: right;\">\n",
       "      <th></th>\n",
       "      <th>Winner</th>\n",
       "      <th>Result</th>\n",
       "      <th>Margin</th>\n",
       "      <th>BR</th>\n",
       "      <th>Match</th>\n",
       "      <th>Ground</th>\n",
       "      <th>Start Date</th>\n",
       "    </tr>\n",
       "  </thead>\n",
       "  <tbody>\n",
       "    <tr>\n",
       "      <th>0</th>\n",
       "      <td>Australia</td>\n",
       "      <td>won</td>\n",
       "      <td>44 runs</td>\n",
       "      <td></td>\n",
       "      <td>New Zealand v Australia</td>\n",
       "      <td>Auckland</td>\n",
       "      <td>17 Feb 2005</td>\n",
       "    </tr>\n",
       "    <tr>\n",
       "      <th>1</th>\n",
       "      <td>England</td>\n",
       "      <td>won</td>\n",
       "      <td>100 runs</td>\n",
       "      <td></td>\n",
       "      <td>England v Australia</td>\n",
       "      <td>Southampton</td>\n",
       "      <td>13 Jun 2005</td>\n",
       "    </tr>\n",
       "    <tr>\n",
       "      <th>2</th>\n",
       "      <td>New Zealand</td>\n",
       "      <td>won</td>\n",
       "      <td>5 wickets</td>\n",
       "      <td>12</td>\n",
       "      <td>South Africa v New Zealand</td>\n",
       "      <td>Johannesburg</td>\n",
       "      <td>21 Oct 2005</td>\n",
       "    </tr>\n",
       "    <tr>\n",
       "      <th>3</th>\n",
       "      <td>Australia</td>\n",
       "      <td>won</td>\n",
       "      <td>95 runs</td>\n",
       "      <td></td>\n",
       "      <td>Australia v South Africa</td>\n",
       "      <td>Brisbane</td>\n",
       "      <td>9 Jan 2006</td>\n",
       "    </tr>\n",
       "    <tr>\n",
       "      <th>4</th>\n",
       "      <td></td>\n",
       "      <td>tied</td>\n",
       "      <td>-</td>\n",
       "      <td></td>\n",
       "      <td>New Zealand v West Indies</td>\n",
       "      <td>Auckland</td>\n",
       "      <td>16 Feb 2006</td>\n",
       "    </tr>\n",
       "    <tr>\n",
       "      <th>...</th>\n",
       "      <td>...</td>\n",
       "      <td>...</td>\n",
       "      <td>...</td>\n",
       "      <td>...</td>\n",
       "      <td>...</td>\n",
       "      <td>...</td>\n",
       "      <td>...</td>\n",
       "    </tr>\n",
       "    <tr>\n",
       "      <th>1215</th>\n",
       "      <td>Austria</td>\n",
       "      <td>won</td>\n",
       "      <td>5 runs</td>\n",
       "      <td></td>\n",
       "      <td>Austria v Luxembourg</td>\n",
       "      <td>Vinor</td>\n",
       "      <td>21 May 2021</td>\n",
       "    </tr>\n",
       "    <tr>\n",
       "      <th>1216</th>\n",
       "      <td>Austria</td>\n",
       "      <td>won</td>\n",
       "      <td>78 runs</td>\n",
       "      <td></td>\n",
       "      <td>Czech Rep. v Austria</td>\n",
       "      <td>Vinor</td>\n",
       "      <td>22 May 2021</td>\n",
       "    </tr>\n",
       "    <tr>\n",
       "      <th>1217</th>\n",
       "      <td>Luxembourg</td>\n",
       "      <td>won</td>\n",
       "      <td>6 wickets</td>\n",
       "      <td>8</td>\n",
       "      <td>Czech Rep. v Luxembourg</td>\n",
       "      <td>Vinor</td>\n",
       "      <td>22 May 2021</td>\n",
       "    </tr>\n",
       "    <tr>\n",
       "      <th>1218</th>\n",
       "      <td>Luxembourg</td>\n",
       "      <td>won</td>\n",
       "      <td>5 wickets</td>\n",
       "      <td>2</td>\n",
       "      <td>Austria v Luxembourg</td>\n",
       "      <td>Vinor</td>\n",
       "      <td>23 May 2021</td>\n",
       "    </tr>\n",
       "    <tr>\n",
       "      <th>1219</th>\n",
       "      <td>Austria</td>\n",
       "      <td>won</td>\n",
       "      <td>4 wickets</td>\n",
       "      <td>4</td>\n",
       "      <td>Czech Rep. v Austria</td>\n",
       "      <td>Vinor</td>\n",
       "      <td>23 May 2021</td>\n",
       "    </tr>\n",
       "  </tbody>\n",
       "</table>\n",
       "<p>1220 rows × 7 columns</p>\n",
       "</div>"
      ],
      "text/plain": [
       "           Winner Result     Margin  BR                       Match  \\\n",
       "0       Australia    won    44 runs         New Zealand v Australia   \n",
       "1         England    won   100 runs             England v Australia   \n",
       "2     New Zealand    won  5 wickets  12  South Africa v New Zealand   \n",
       "3       Australia    won    95 runs        Australia v South Africa   \n",
       "4                   tied          -       New Zealand v West Indies   \n",
       "...           ...    ...        ...  ..                         ...   \n",
       "1215      Austria    won     5 runs            Austria v Luxembourg   \n",
       "1216      Austria    won    78 runs            Czech Rep. v Austria   \n",
       "1217   Luxembourg    won  6 wickets   8     Czech Rep. v Luxembourg   \n",
       "1218   Luxembourg    won  5 wickets   2        Austria v Luxembourg   \n",
       "1219      Austria    won  4 wickets   4        Czech Rep. v Austria   \n",
       "\n",
       "            Ground   Start Date  \n",
       "0         Auckland  17 Feb 2005  \n",
       "1      Southampton  13 Jun 2005  \n",
       "2     Johannesburg  21 Oct 2005  \n",
       "3         Brisbane   9 Jan 2006  \n",
       "4         Auckland  16 Feb 2006  \n",
       "...            ...          ...  \n",
       "1215         Vinor  21 May 2021  \n",
       "1216         Vinor  22 May 2021  \n",
       "1217         Vinor  22 May 2021  \n",
       "1218         Vinor  23 May 2021  \n",
       "1219         Vinor  23 May 2021  \n",
       "\n",
       "[1220 rows x 7 columns]"
      ]
     },
     "execution_count": 165,
     "metadata": {},
     "output_type": "execute_result"
    }
   ],
   "source": [
    "df"
   ]
  },
  {
   "cell_type": "code",
   "execution_count": null,
   "metadata": {},
   "outputs": [],
   "source": [
    "url=\"https://stats.espncricinfo.com/ci/engine/stats/index.html?class=3;page=2;template=results;type=aggregate;view=results\""
   ]
  },
  {
   "cell_type": "code",
   "execution_count": null,
   "metadata": {},
   "outputs": [],
   "source": [
    "r=requests.get(url)\n",
    "r.status_code\n",
    "#html_content\n",
    "page_content=r.text"
   ]
  },
  {
   "cell_type": "code",
   "execution_count": null,
   "metadata": {},
   "outputs": [],
   "source": [
    "soup=BeautifulSoup(page_content,\"html.parser\")\n",
    "#print(len(soup))\n",
    "#soup\n",
    "#soup.prettify()\n"
   ]
  },
  {
   "cell_type": "code",
   "execution_count": null,
   "metadata": {},
   "outputs": [],
   "source": [
    "soup.title.text"
   ]
  },
  {
   "cell_type": "code",
   "execution_count": null,
   "metadata": {},
   "outputs": [],
   "source": [
    "titles=[]\n",
    "tr_tags=soup.find_all('tr',{'class':\"headlinks\"})\n",
    "for i in tr_tags:\n",
    "    titles.append(i.text.replace(\"\\n\",' ').strip())\n",
    "    \n",
    "final_titles=titles1[0].split()\n",
    "\n",
    "final_titles\n",
    "\n"
   ]
  },
  {
   "cell_type": "code",
   "execution_count": null,
   "metadata": {},
   "outputs": [],
   "source": [
    "tr_data = soup.find_all('tr',{'class':'data1'})\n",
    "#len(tr_data)\n",
    "first=tr_data[3]\n",
    "final=(first.text.replace('\\n',',').strip().split(','))\n",
    "new_final=final.pop(5)\n",
    "final.pop(0)\n",
    "final.pop()\n",
    "final.pop()\n",
    "print(final)\n",
    "#filter the empty string in list\n",
    "filteredlist=list(filter(None,final))\n",
    "#print(type(first.text))\n",
    "\n",
    "data=[]\n",
    "#filteredlist\n",
    "#for i in first:\n",
    "#    data.append(i.text)\n",
    "#data\n",
    "    \n",
    "    "
   ]
  },
  {
   "cell_type": "code",
   "execution_count": null,
   "metadata": {},
   "outputs": [],
   "source": [
    "#for entire dataset data processing.....\n",
    "tr_data =soup.find_all('tr',{'class':'data1'})\n",
    "dataset=[]\n",
    "for i in tr_data:\n",
    "    #print(i.text)\n",
    "    raw_list=i.text.replace('\\n',',').strip().split(\",\")\n",
    "    raw_list.pop(5)\n",
    "    #print(raw_list)\n",
    "    raw_list.pop(0)\n",
    "    raw_list.pop()\n",
    "    raw_list.pop()\n",
    "    #raw_list=list(filter(None,raw_list))\n",
    "    #print(filterdlist)\n",
    "    \n",
    "    dataset.append(raw_list)\n",
    "dataset[:3]\n",
    "    "
   ]
  },
  {
   "cell_type": "code",
   "execution_count": null,
   "metadata": {},
   "outputs": [],
   "source": [
    "tr_data[6]"
   ]
  },
  {
   "cell_type": "markdown",
   "metadata": {},
   "source": [
    "#create dataset using pandas\n",
    "import pandas as pd"
   ]
  },
  {
   "cell_type": "code",
   "execution_count": null,
   "metadata": {},
   "outputs": [],
   "source": [
    "df=pd.DataFrame(dataset,columns=[\"Winner\",'Result',\"Margin\",\"BR\",\"Match\",\"Ground\",\"Start Date\"])\n",
    "df\n"
   ]
  },
  {
   "cell_type": "code",
   "execution_count": null,
   "metadata": {},
   "outputs": [],
   "source": [
    "#next page \n",
    "page2=soup.find_all('a',class_=\"PaginationLink\")\n",
    "for i in page2:\n",
    "    print(len(i['href']))"
   ]
  }
 ],
 "metadata": {
  "kernelspec": {
   "display_name": "Python 3",
   "language": "python",
   "name": "python3"
  },
  "language_info": {
   "codemirror_mode": {
    "name": "ipython",
    "version": 3
   },
   "file_extension": ".py",
   "mimetype": "text/x-python",
   "name": "python",
   "nbconvert_exporter": "python",
   "pygments_lexer": "ipython3",
   "version": "3.8.3"
  }
 },
 "nbformat": 4,
 "nbformat_minor": 4
}
